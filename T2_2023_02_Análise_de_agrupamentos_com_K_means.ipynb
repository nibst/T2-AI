{
  "nbformat": 4,
  "nbformat_minor": 0,
  "metadata": {
    "colab": {
      "private_outputs": true,
      "provenance": [],
      "toc_visible": true,
      "include_colab_link": true
    },
    "kernelspec": {
      "name": "python3",
      "display_name": "Python 3"
    },
    "language_info": {
      "name": "python"
    }
  },
  "cells": [
    {
      "cell_type": "markdown",
      "metadata": {
        "id": "view-in-github",
        "colab_type": "text"
      },
      "source": [
        "<a href=\"https://colab.research.google.com/github/nibst/T2-AI/blob/main/T2_2023_02_An%C3%A1lise_de_agrupamentos_com_K_means.ipynb\" target=\"_parent\"><img src=\"https://colab.research.google.com/assets/colab-badge.svg\" alt=\"Open In Colab\"/></a>"
      ]
    },
    {
      "cell_type": "markdown",
      "metadata": {
        "_uuid": "f2b91cbd82bc39d047f3f92d7439f4985b3a1246",
        "id": "UVFZi3nlfwkT"
      },
      "source": [
        "## **Instituto de Informática - UFRGS**\n",
        "## Disciplina INF01017 - Aprendizado de Máquina\n",
        "#### *Prof. Anderson Rocha Tavares*\n",
        "#### Créditos pelo Material: *Profa. Mariana Recamonde-Mendoza*\n",
        "### **Trabalho 2 - Análise de agrupamentos com K-means**\n",
        "<br>\n",
        "\n",
        "**Grupo**:\n",
        "*   (nome e cartão UFRGS)\n",
        "*   (nome e cartão UFRGS)\n",
        "*   (nome e cartão UFRGS)\n",
        "\n",
        "\n",
        "---\n",
        "***Observação:*** Este notebook é disponibilizado aos alunos como ponto de partida para o desenvolvimento do trabalho prático 2 (T2) da disciplina INF01017.\n",
        "\n",
        "\n",
        "---\n",
        "\n",
        "***ENTREGA:*** A entrega deste trabalho deve ser feita enviando o **link do Google Colab** com a solução do grupo, com a opção de deixar **as saídas do notebook salvas**, e o .ipynb exportado do Google Colab, contendo todas as saidas.\n",
        "\n",
        "\n",
        "\n",
        "# Segmentação de Clientes com Algoritmo K-Means\n",
        "\n",
        "O conjunto de dados a ser utilizado nesse trabalho foi adaptado de um problema de classificação de risco de crédito para clientes bancários. Os dados a serem analisados não possuem rótulos (classes) e possuem apenas um subconjunto previamente selecionado dos atributos utilizados para descrever as instâncias analisadas. O objetivo é realizar o processo de segmentação de clientes que solicitaram crédito bancário, que consiste em separar os clientes em grupos menores com base em características comuns entre eles. A partir destes grupos gerados (aqui denominados clusters), a empresa pode oferecer uma comunicação mais assertiva e personalizada aos seus clientes, e melhor compreender sobre os interesses e necessidades dos seus clientes ao traçar perfis de clientes (também denominados *personas*).\n",
        "\n",
        "\n",
        "Os atributos disponíveis estão descritos abaixo:\n",
        "\n",
        "*   **Age.** Idade (numérico)\n",
        "*   **Credit amount.** Valor do crédito (numérico, em DM - Deutsch Mark)\n",
        "*   **Duration.** Duração do empréstimo (numérico, em meses)\n",
        "*   **Sex.** Sexo (categórico: masculino, feminino)\n",
        "*   **Job.** Emprego (categórico: 0 - não qualificado e não residente, 1 - não qualificado e residente, 2 - qualificado, 3 - altamente qualificado)\n",
        "*   **Housing.** Imóvel (categórico: próprio, alugado ou gratuito)\n",
        "*   **Saving Account.** Poupança (categórico: pequena, moderada, bastante rico, rico)\n",
        "*   **Checking Account.** Conta corrente (categórico: pequena, moderada, bastante rico, rico)\n",
        "*   **Purpose.** Finalidade (categórico: carro, móveis/equipamentos, rádio/TV, eletrodomésticos, reparos, educação, negócios, férias/outros)\n",
        "\n",
        "\n",
        "\n"
      ]
    },
    {
      "cell_type": "code",
      "execution_count": null,
      "metadata": {
        "_cell_guid": "79c7e3d0-c299-4dcb-8224-4455121ee9b0",
        "_uuid": "d629ff2d2480ee46fbb7e2d37f6b5fab8052498a",
        "id": "yaEkuBIVfwkX"
      },
      "outputs": [],
      "source": [
        "##importando bilbiotecas\n",
        "import pandas as pd\n",
        "import numpy as np\n",
        "import seaborn as sns\n",
        "import matplotlib.pyplot as plt\n",
        "from sklearn.preprocessing import StandardScaler\n",
        "from sklearn.cluster import KMeans\n",
        "import warnings\n",
        "warnings.filterwarnings(\"ignore\")"
      ]
    },
    {
      "cell_type": "markdown",
      "metadata": {
        "_uuid": "5b0ddca052b76bd09dd76022b83f3f2e91730863",
        "id": "czlOlcPcfwkZ"
      },
      "source": [
        "Lendo os dados e visualizando a estrutura para as primeiras instâncias"
      ]
    },
    {
      "cell_type": "code",
      "execution_count": null,
      "metadata": {
        "_uuid": "0cfe8b507927d2e3cedb1a524b77b8a614e3361e",
        "id": "Z7IYOrT6fwkZ"
      },
      "outputs": [],
      "source": [
        "data = pd.read_csv(\"https://drive.google.com/uc?export=view&id=1Jp-y1djRI3sCT6_JTBkfLn1FOL4qMHsv\",  )"
      ]
    },
    {
      "cell_type": "code",
      "execution_count": null,
      "metadata": {
        "_uuid": "bfbb4dd2ee83304d6608a57e69dad7830f872e78",
        "id": "ZDoo9nOAfwka"
      },
      "outputs": [],
      "source": [
        "data.head()"
      ]
    },
    {
      "cell_type": "markdown",
      "source": [
        "A primeira coluna pode ser removida, pois é apenas um identificador (da instância ou da linha)."
      ],
      "metadata": {
        "id": "srD9ogm8sMbo"
      }
    },
    {
      "cell_type": "code",
      "source": [
        "data.drop(data.columns[0], inplace=True, axis=1)"
      ],
      "metadata": {
        "id": "Oy0lh1jokqB-"
      },
      "execution_count": null,
      "outputs": []
    },
    {
      "cell_type": "markdown",
      "source": [
        "Inspecionando o tamanho do base de dados, os tipos dos atributos e a ocorrência de valores faltantes."
      ],
      "metadata": {
        "id": "TovjnuFgsUwr"
      }
    },
    {
      "cell_type": "code",
      "source": [
        "print(\"O conjunto de dados possui {} instâncias (clientes) e {} colunas (atributos).\".format(data.shape[0],data.shape[1]))"
      ],
      "metadata": {
        "id": "6wDJxuYBsSt0"
      },
      "execution_count": null,
      "outputs": []
    },
    {
      "cell_type": "code",
      "source": [
        "print(\"Valores faltantes (%) por atributo:\\n{}\".format((data.isnull().sum()/data.shape[0])*100))"
      ],
      "metadata": {
        "id": "s-vqHFB_shaQ"
      },
      "execution_count": null,
      "outputs": []
    },
    {
      "cell_type": "markdown",
      "source": [
        "Os valores faltantes ocorrem nos atributos Saving accounts e Checking account. Provavelmente são clientes que não possuem algum destes tipos de conta. Neste caso, optamos por não imputar os valores faltantes."
      ],
      "metadata": {
        "id": "8hlA8CBZwGRF"
      }
    },
    {
      "cell_type": "code",
      "source": [
        "print(\"Tipo de dado por atributo:\\n{}\".format(data.dtypes))"
      ],
      "metadata": {
        "id": "Lzvd-m5EstUL"
      },
      "execution_count": null,
      "outputs": []
    },
    {
      "cell_type": "markdown",
      "metadata": {
        "_uuid": "1f7e050b147b3e851a89e535848e8ce5ebf287a8",
        "id": "xEGN0Ht_fwkZ"
      },
      "source": [
        "Embora o atributo Job esteja codificado como inteiro, ele possui uma interpretação **categórica**. Vamos fazer a conversão de tipo e separar os atributos em vetores de categóricos e numéricos para facilitar a análise exploratória dos dados."
      ]
    },
    {
      "cell_type": "code",
      "source": [
        "## Converte o atributo job para object.\n",
        "data_types_dict = {'Job': object}\n",
        "\n",
        "data = data.astype(data_types_dict)\n",
        "\n",
        "## Separa os atributos em vetores, de acordo com o tipo de dado (categórico ou numérico)\n",
        "cat_columns=list(data.select_dtypes(include=[\"object\"]).columns)\n",
        "print(cat_columns)\n",
        "\n",
        "num_columns=list(data.select_dtypes(include=[\"int64\", \"float64\"]).columns)\n",
        "print(num_columns)\n",
        "\n",
        "## Separa os dados em dois dataframes, de atributos numéricos e categóricos\n",
        "data_num = data[num_columns]\n",
        "data_cat = data[cat_columns]"
      ],
      "metadata": {
        "id": "6hcQ64iDutWs"
      },
      "execution_count": null,
      "outputs": []
    },
    {
      "cell_type": "code",
      "source": [
        "data_num.describe()"
      ],
      "metadata": {
        "id": "b5amPQ2Ukq5N"
      },
      "execution_count": null,
      "outputs": []
    },
    {
      "cell_type": "markdown",
      "source": [
        "A análise de agrupamento para identificar perfis de clientes será feita a partir dos dados numéricos: **Age, Credit Amount, Duration**.\n",
        "\n",
        "\n",
        "Uma vez definidos os clusters, os demais atributos serão empregados para uma interpretação mais aprofundada destes clusters e dos respectivos perfis de clientes que representam.\n",
        "\n",
        "\n"
      ],
      "metadata": {
        "id": "_KXmWdDVwqBK"
      }
    },
    {
      "cell_type": "markdown",
      "metadata": {
        "_uuid": "67e3ec17ce4b5ea2f809c9f52b27849130a1ce53",
        "id": "r8T43EHWfwkf"
      },
      "source": [
        "### **Análise Exploratória dos Dados**\n",
        "\n",
        "Nas células abaixo, vamos realizar uma análise exploratória dos dados.\n",
        "\n",
        "Primeiramente, vamos observar a relação entre os três atributos numéricos através de um gráfico 3D e de gráficos que traçam a relação par a par entre eles."
      ]
    },
    {
      "cell_type": "code",
      "source": [
        "from mpl_toolkits.mplot3d import Axes3D\n",
        "fig = plt.figure(figsize=(12,8))\n",
        "ax = fig.add_subplot(111, projection='3d')\n",
        "ax.scatter(data[\"Credit amount\"], data[\"Duration\"], data[\"Age\"])\n",
        "ax.set_xlabel(\"Credit amount\")\n",
        "ax.set_ylabel(\"Duration\")\n",
        "ax.set_zlabel(\"Age\")"
      ],
      "metadata": {
        "id": "72FDfQ5fxvRL"
      },
      "execution_count": null,
      "outputs": []
    },
    {
      "cell_type": "code",
      "execution_count": null,
      "metadata": {
        "_uuid": "b6d7ebe749a9a53012ba606e874f9a392394d336",
        "id": "x13c4GXYfwkf"
      },
      "outputs": [],
      "source": [
        "def scatters(data, h=None, pal=None):\n",
        "    fig, (ax1, ax2, ax3) = plt.subplots(3,1, figsize=(8,8))\n",
        "    sns.scatterplot(x=\"Credit amount\",y=\"Duration\", hue=h, palette=pal, data=data, ax=ax1)\n",
        "    sns.scatterplot(x=\"Age\",y=\"Credit amount\", hue=h, palette=pal, data=data, ax=ax2)\n",
        "    sns.scatterplot(x=\"Age\",y=\"Duration\", hue=h, palette=pal, data=data, ax=ax3)\n",
        "    plt.tight_layout()"
      ]
    },
    {
      "cell_type": "code",
      "execution_count": null,
      "metadata": {
        "_uuid": "ba9afedfd8b250ca725d9e93bfccd4b393f90a0c",
        "id": "nZo5s2oNfwkg"
      },
      "outputs": [],
      "source": [
        "scatters(data)"
      ]
    },
    {
      "cell_type": "markdown",
      "source": [
        "Estas análises sugerem a existência de uma correlação positiva entre Credit amount e Duration. Esta correlação é pertinente, visto que valores maiores de créditos tendem a ser pagos em um prazo maior."
      ],
      "metadata": {
        "id": "keX6mR6PIu10"
      }
    },
    {
      "cell_type": "markdown",
      "source": [
        "Podemos observar, também, a distribuição de cada atributo numérico."
      ],
      "metadata": {
        "id": "InjqWeXP5Mw6"
      }
    },
    {
      "cell_type": "code",
      "source": [
        "def distributions(df):\n",
        "    fig, (ax1, ax2, ax3) = plt.subplots(3,1, figsize=(8,8))\n",
        "    sns.distplot(df[\"Age\"], ax=ax1)\n",
        "    sns.distplot(df[\"Credit amount\"], ax=ax2)\n",
        "    sns.distplot(df[\"Duration\"], ax=ax3)\n",
        "    plt.tight_layout()"
      ],
      "metadata": {
        "id": "KylwLCeA5LsX"
      },
      "execution_count": null,
      "outputs": []
    },
    {
      "cell_type": "code",
      "source": [
        "distributions(data_num)"
      ],
      "metadata": {
        "id": "s5is7lSL5U7K"
      },
      "execution_count": null,
      "outputs": []
    },
    {
      "cell_type": "markdown",
      "source": [
        "Com a análise das distribuições, percebemos de forma ainda mais clara que os atributos variam em escalas diferentes. Em algoritmos que lidam com medidas de proximidade, como é o caso do k-means, é importante normalizar os dados para que os valores dos diferentes atributos estejam em ordens de grandeza similares, e assim exerçam o mesmo impacto no aprendizado. Iremos utilizar o método StandardScaler (também chamado por padronização)."
      ],
      "metadata": {
        "id": "pi3Tv6qn1--9"
      }
    },
    {
      "cell_type": "code",
      "source": [
        "scaler = StandardScaler()\n",
        "data_num_std = scaler.fit_transform(data_num)\n",
        "data_num_std = pd.DataFrame(data_num_std, columns=num_columns)"
      ],
      "metadata": {
        "id": "Qs-dunC8ywZm"
      },
      "execution_count": null,
      "outputs": []
    },
    {
      "cell_type": "code",
      "source": [
        "## Visualizando novamente os dados, após padronização\n",
        "## (Apenas para entender, visualmente, que o padrão na relação dos dados não muda)\n",
        "scatters(data_num_std)"
      ],
      "metadata": {
        "id": "vq0pUW_L15nQ"
      },
      "execution_count": null,
      "outputs": []
    },
    {
      "cell_type": "code",
      "source": [
        "fig = plt.figure(figsize=(12,8))\n",
        "ax = fig.add_subplot(111, projection='3d')\n",
        "ax.scatter(data_num_std[\"Credit amount\"], data_num_std[\"Duration\"], data_num_std[\"Age\"])\n",
        "ax.set_xlabel(\"Credit amount\")\n",
        "ax.set_ylabel(\"Duration\")\n",
        "ax.set_zlabel(\"Age\")"
      ],
      "metadata": {
        "id": "Umjrh_zp2lvR"
      },
      "execution_count": null,
      "outputs": []
    },
    {
      "cell_type": "markdown",
      "source": [
        "### **Aplicação do K-means**"
      ],
      "metadata": {
        "id": "KXi-M_d-6MhQ"
      }
    },
    {
      "cell_type": "markdown",
      "source": [
        "Nesta seção, o grupo deve realizar a aplicação do algoritmo [K-means](https://scikit-learn.org/stable/modules/generated/sklearn.cluster.KMeans.html) no dataframe `data_num_std`, seguindo os passos listados abaixo:\n",
        "\n",
        "\n",
        "1.   Faça a análise do k-means para diferentes números de clusters. Sugere-se testar de 1 a 20. Crie um vetor para armazenar a soma do quadrado das distâncias das instâncias até o centróide mais próximo durante o loop (também chamado de inércia, e disponível no campo *inertia_* do objeto retornado pelo método KMeans, por exemplo, kmeans.inertia_)  \n",
        "2.   Faça um gráfico da inércia (eixo y) para os diferentes valores de k (eixo x), a fim de determinar o melhor valor de k pelo método do cotovelo (Elbow method).\n",
        "3.   Escolha o melhor valor de k para os dados, repetindo a execução do k-means com o k escolhido e gerando a configuração final de clusters.\n",
        "\n"
      ],
      "metadata": {
        "id": "b_LfIhVM6go4"
      }
    },
    {
      "cell_type": "code",
      "source": [
        "max_clusters = 0 #@param {type:\"integer\"}\n",
        "inertias=[]\n",
        "for ii in range(1,max_clusters):\n",
        "   ## executar o k-means com ii clusters\n",
        "   ## armazenar o respectivo valor de .inertia_ no vetor inertia"
      ],
      "metadata": {
        "id": "UucVYGWi-6oN"
      },
      "execution_count": null,
      "outputs": []
    },
    {
      "cell_type": "code",
      "source": [
        "plt.figure()\n",
        "plt.plot(range(1,max_clusters),inertias, marker='o')"
      ],
      "metadata": {
        "id": "apRYzpUCzmvT"
      },
      "execution_count": null,
      "outputs": []
    },
    {
      "cell_type": "code",
      "source": [
        "num_clusters = 0 #@param {type:\"integer\"}\n",
        "\n",
        "kmeans_final = KMeans(num_clusters)\n",
        "kmeans_final.fit(data_num_std)\n",
        "labels=kmeans_final.labels_"
      ],
      "metadata": {
        "id": "fInqdjJLzv5F"
      },
      "execution_count": null,
      "outputs": []
    },
    {
      "cell_type": "markdown",
      "source": [
        "A célula abaixo gera uma versão do conjunto de dados com uma coluna 'cluster' adicionada aos dados, indicando o índice do cluster ao qual foi designada cada instância. Esta versão será útil para visualização dos dados e para a interpretação dos resultados."
      ],
      "metadata": {
        "id": "D0Fw4bA0HNv7"
      }
    },
    {
      "cell_type": "code",
      "source": [
        "clusters_config_std = pd.concat([data_num_std, data_cat, pd.DataFrame({'cluster':labels})], axis=1)\n",
        "clusters_config_std.head()"
      ],
      "metadata": {
        "id": "cHSJZtkezxIb"
      },
      "execution_count": null,
      "outputs": []
    },
    {
      "cell_type": "markdown",
      "source": [
        "Também é possível fazer o mesmo para o dataframe original, isto é, sem a normalização por padronização, para eventualmente facilitar a interpretação dos resultados por meio dos gráficos. Apenas é importante lembrar que os agrupamentos são definidos a partir dos dados normalizados."
      ],
      "metadata": {
        "id": "kEWf-lDacHCX"
      }
    },
    {
      "cell_type": "code",
      "source": [
        "clusters_config_original = pd.concat([data_num, data_cat, pd.DataFrame({'cluster':labels})], axis=1)\n",
        "clusters_config_original.head()"
      ],
      "metadata": {
        "id": "yL3-u-6-cGHP"
      },
      "execution_count": null,
      "outputs": []
    },
    {
      "cell_type": "markdown",
      "source": [
        "### **Visualização do resultado do agrupamento**\n",
        "\n",
        "Para visualizar o resultado do agrupamento em um gráfico de 2D, vamos usar a estratégia de *Principal Component Analysis* (PCA), que faz uma projeção dos dados a partir da combinação linear dos atributos (dimensões originais).\n",
        "\n",
        "Esta transformação será realizada tanto nos dados usados no algoritmo k-means, como nos centróides dos clusters gerados pelo algoritmo.\n",
        "\n",
        "Cada ponto será representado pelas coordenadas {PC1, PC2} (onde PC = *Principal Component*) e a cor do ponto no gráfico corresponde ao seu respectivo cluster."
      ],
      "metadata": {
        "id": "G_fUTZnYHdsz"
      }
    },
    {
      "cell_type": "code",
      "source": [
        "from sklearn.decomposition import PCA\n",
        "pca_2 = PCA(2)\n",
        "pca_2_result = pca_2.fit_transform(data_num_std)\n",
        "\n",
        "## obtém os centrois do k-means e aplica a transformação por PCA\n",
        "centroids = kmeans_final.cluster_centers_\n",
        "centroids_pca = pca_2.transform(centroids)\n",
        "\n",
        "## plota a figura, colorindo os pontos de acordo com o respectivo cluster.\n",
        "sns.set(style='white', rc={'figure.figsize':(9,6)},font_scale=1.1)\n",
        "\n",
        "plt.scatter(x=pca_2_result[:, 0], y=pca_2_result[:, 1], c=labels, cmap='viridis')\n",
        "plt.scatter(centroids_pca[:, 0], centroids_pca[:, 1],\n",
        "            marker='x', s=169, linewidths=3,\n",
        "            color='black', zorder=10,lw=3)\n",
        "plt.xlabel('Principal Component 1')\n",
        "plt.ylabel('Principal Component 2')\n",
        "plt.title('Clustered Data (PCA visualization)',fontweight='bold')\n",
        "plt.show()"
      ],
      "metadata": {
        "id": "soqwCpTc92Tg"
      },
      "execution_count": null,
      "outputs": []
    },
    {
      "cell_type": "markdown",
      "source": [
        "### **Interpretação dos resultados**"
      ],
      "metadata": {
        "id": "gRLiv9GUIDoD"
      }
    },
    {
      "cell_type": "markdown",
      "source": [
        "A análise de agrupamentos tem como resultado a geração de **clusters** que são definidos com base na **alta similaridades entre as características** (ou atributos) **das instâncias**. Assim, usualmente o resultado do agrupamento precisa ser explorado visualmente, através de gráficos, tabelas ou estatística descritiva, e interpretado.\n",
        "\n",
        "Nesta seção do documento, os grupos deverão implementar suas estratégias para **analisar e comparar** a distribuição dos atributos entre os clusters encontrados. **O objetivo é traçar um perfil dos clientes que se encaixa em cada cluster obtido, com base nos atributos disponíveis** (numéricos e categóricos, incluindo aqueles que não foram usados para realizar o agrupamento). Ao final da análise, os grupos devem ser capazes de realizar uma descrição de cada cluster em termos do perfil de cliente que ele melhor representa.\n",
        "\n",
        "Por exemplo... Algum cluster está associado com pessoas mais jovens? Como está distribuído o valor de crédito em cada cluster? Existe uma proporção maior de mulheres em algum cluster? Existe alguma relação entre os clusters e o tipo de emprego, de moradia, ou de contas (poupança e correnta)? etc. Os grupos podem (e devem) usar a criatividade para realizar a análise dos dados e a interpretação dos dados.\n",
        "\n",
        "Sugere-se uso de recursos como média e desvio padrão, gráfico de barras, graficos de boxplot, histogramas, ou outros apropriados para análise de distribuição (de acordo com o tipo de atributo, numérico ou categórico).\n",
        "\n",
        "Os resultados devem ser apresentados e discutidos no próprio notebook do Google Colab ou, alternativamente, em relatório em PDF a ser entregue junto com o notebook.\n",
        "\n",
        "\n"
      ],
      "metadata": {
        "id": "NnHVBYNEMuHa"
      }
    },
    {
      "cell_type": "markdown",
      "source": [
        "### **Exemplos de gráficos**"
      ],
      "metadata": {
        "id": "TLfFUHXraaq6"
      }
    },
    {
      "cell_type": "markdown",
      "source": [
        "Os exemplos abaixos são dados sem considerar a informação de clusters, apenas os atributos originais, para auxiliar os alunos em algumas visualizações possíveis. Outras visualizações podem ser utilizadas a critério dos alunos."
      ],
      "metadata": {
        "id": "WlKoeVm1g3Ca"
      }
    },
    {
      "cell_type": "markdown",
      "source": [
        "#### Analisando a distribuição de uma variável numérica para subgrupos (dados por variável categórica)"
      ],
      "metadata": {
        "id": "_LHCeJP5bMvl"
      }
    },
    {
      "cell_type": "code",
      "source": [
        "# boxplots\n",
        "for coluna in data_num.columns:  ## usando apenas colunas numéricas com base no dataframe data_num\n",
        "    sns.boxplot(x='Sex', y=coluna, data=clusters_config_original)\n",
        "    plt.title(f'Distribuição do atributo {coluna} por Sexo')\n",
        "    plt.show()"
      ],
      "metadata": {
        "id": "RozZNPqFbMSa"
      },
      "execution_count": null,
      "outputs": []
    },
    {
      "cell_type": "markdown",
      "source": [
        "#### Analisando a distribuição de uma variável categórica para subgrupos (dados por variável categórica)"
      ],
      "metadata": {
        "id": "PtTot8C_gRJV"
      }
    },
    {
      "cell_type": "code",
      "source": [
        "# barplots\n",
        "for coluna in ['Job','Housing']:  ## usando apenas colunas numéricas com base no dataframe data_num\n",
        "    sns.countplot(x=coluna, data=clusters_config_original, hue='Sex')\n",
        "    plt.title(f'Distribuição do atributo {coluna} por Sexo')\n",
        "    plt.show()"
      ],
      "metadata": {
        "id": "lef1zL8vgKg9"
      },
      "execution_count": null,
      "outputs": []
    }
  ]
}